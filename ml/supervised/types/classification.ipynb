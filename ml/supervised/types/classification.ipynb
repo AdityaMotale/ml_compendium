{
 "cells": [
  {
   "attachments": {},
   "cell_type": "markdown",
   "metadata": {},
   "source": [
    "## Classification"
   ]
  },
  {
   "attachments": {},
   "cell_type": "markdown",
   "metadata": {},
   "source": [
    "Classification is a type of supervised learning in machine learning, where the goal is to predict the class or category of a given data point based on its features. In other words, classification is the process of assigning a label or category to a new observation based on a set of predefined categories."
   ]
  },
  {
   "attachments": {},
   "cell_type": "markdown",
   "metadata": {},
   "source": [
    "There are various algorithms used for classification, including decision trees, logistic regression, naive Bayes, support vector machines (SVM), and artificial neural networks (ANN). The choice of algorithm depends on the nature of the data and the problem at hand."
   ]
  },
  {
   "attachments": {},
   "cell_type": "markdown",
   "metadata": {},
   "source": [
    "#### Gender Classification Modal"
   ]
  },
  {
   "attachments": {},
   "cell_type": "markdown",
   "metadata": {},
   "source": [
    "Here in the fallowing dataset we have info about random peoples, their height, weight and shoe size. Every person has a label of their gender as `male` or `female`. \n",
    "\n",
    "| Height (cm) | Weight (kg) | Shoe Size | Gender |\n",
    "| ----------- | ----------- | -------------- | ------ |\n",
    "| 178         | 75          | 9.5            | Male   |\n",
    "| 165         | 60          | 8              | Female |\n",
    "| 185         | 80          | 10             | Male   |\n",
    "| 155         | 50          | 7              | Female |\n",
    "| 172         | 72          | 9              | Male   |\n",
    "| 160         | 55          | 7.5            | Female |\n",
    "\n",
    "This is a `classification` problem because we are predicting the gender of a person depending upon their height, weight and shoe size"
   ]
  },
  {
   "attachments": {},
   "cell_type": "markdown",
   "metadata": {},
   "source": [
    "Now our task is to create a Supervised ML Modal which will take person's height, weight and shoe size as input and will predict their gender, hence a label, either _male_ or _female_"
   ]
  },
  {
   "attachments": {},
   "cell_type": "markdown",
   "metadata": {},
   "source": [
    "#### Libraries We're Using\n",
    "\n",
    "Here we are using `numpy` for generating random data."
   ]
  },
  {
   "cell_type": "code",
   "execution_count": 38,
   "metadata": {},
   "outputs": [
    {
     "data": {
      "text/plain": [
       "'1.21.5'"
      ]
     },
     "execution_count": 38,
     "metadata": {},
     "output_type": "execute_result"
    }
   ],
   "source": [
    "import numpy as np\n",
    "\n",
    "np.__version__"
   ]
  },
  {
   "attachments": {},
   "cell_type": "markdown",
   "metadata": {},
   "source": [
    "#### Creating Data for ML Modal\n",
    "\n",
    "Gathering valid data is the first step to build ML modals. Here we are creating random numbers for person's height, weight and shoe size storing them in a Python List. Similarly we are creating a List for Gender labels. "
   ]
  },
  {
   "cell_type": "code",
   "execution_count": 21,
   "metadata": {},
   "outputs": [],
   "source": [
    "DATA_LENGTH = 20\n",
    "\n",
    "# Generating random height, weight, and shoe size values for men and women\n",
    "\n",
    "men_data = np.array([[np.random.randint(160, 200), np.random.randint(\n",
    "    60, 100), np.random.randint(7, 13)] for _ in range(DATA_LENGTH)])\n",
    "\n",
    "women_data = np.array([[np.random.randint(150, 180), np.random.randint(\n",
    "    40, 80), np.random.randint(5, 11)] for _ in range(DATA_LENGTH)])\n",
    "\n",
    "# Combining the men's and women's data into a single array\n",
    "gender_dataset = np.concatenate([men_data, women_data])\n",
    "\n",
    "# Creating labels array with `men` and `women` as labels\n",
    "gender_dataset_labels = np.concatenate([np.full(DATA_LENGTH, \"male\"), np.full(DATA_LENGTH, \"female\")])\n"
   ]
  },
  {
   "attachments": {},
   "cell_type": "markdown",
   "metadata": {},
   "source": [
    "Partitioning dataset as `train` and `test`"
   ]
  },
  {
   "cell_type": "code",
   "execution_count": 22,
   "metadata": {},
   "outputs": [
    {
     "name": "stdout",
     "output_type": "stream",
     "text": [
      "Training Data Sample\n",
      "Data [163  57   7]\n",
      "Label ['female'] \n",
      "\n",
      "Test Data Sample\n",
      "Data [172  41   5]\n",
      "Label ['female']\n"
     ]
    }
   ],
   "source": [
    "''' \n",
    "let's say len of `gender_dataset` is 10, \n",
    "so to take 80% of the values we multiply 10 by 0.8 and we get 8\n",
    "with the help of array slicing we can get elements in the array till the 8th index, hence the 80% of the data\n",
    "similarly we can get all the elements in the array after the 8th index hence last 20% of the data\n",
    "'''\n",
    "\n",
    "# First 80% of the entries in the array\n",
    "x_train = gender_dataset[:int(len(gender_dataset) * 0.8)]\n",
    "\n",
    "# Entries after first 80% of entries in the array\n",
    "x_test = gender_dataset[int(len(gender_dataset) * 0.8):]\n",
    "\n",
    "# First 80% of the entries in the array\n",
    "y_train = gender_dataset_labels[:int(len(gender_dataset_labels) * 0.8)]\n",
    "\n",
    "# Entries after first 80% of entries in the array\n",
    "y_test = gender_dataset_labels[int(len(gender_dataset_labels) * 0.8):]\n",
    "\n",
    "# looking at data sample\n",
    "print('Training Data Sample')\n",
    "print(f\"Data {x_train[-1:][0]}\")\n",
    "print(f\"Label {y_train[-1:]} \\n\")\n",
    "\n",
    "# looking at data sample\n",
    "print('Test Data Sample')\n",
    "print(f\"Data {x_test[-1:][0]}\")\n",
    "print(f\"Label {y_test[-1:]}\")\n"
   ]
  },
  {
   "attachments": {},
   "cell_type": "markdown",
   "metadata": {},
   "source": [
    "So our data is now ready😁! Now let's build our modal to make predictions 👨‍🔬"
   ]
  },
  {
   "attachments": {},
   "cell_type": "markdown",
   "metadata": {},
   "source": [
    "Now to solve our classification problem we need to build our model with a classification algorithm"
   ]
  },
  {
   "attachments": {},
   "cell_type": "markdown",
   "metadata": {},
   "source": [
    "#### Various Classification Algorithms\n",
    "\n",
    "1. DecisionTreeClassifier\n",
    "2. Logistic Regression \n"
   ]
  },
  {
   "cell_type": "markdown",
   "metadata": {},
   "source": [
    "👉 NOTE: Remember we're just firing gunshots in the air here, because our data is generating randomly and it's not validated against any real life circumstances."
   ]
  },
  {
   "attachments": {},
   "cell_type": "markdown",
   "metadata": {},
   "source": [
    "#### 1. Decision Tree Classifier\n",
    "\n",
    "A non-parametric model that uses a tree-like structure to partition the feature space into disjoint regions, and assigns a class label to each region."
   ]
  },
  {
   "attachments": {},
   "cell_type": "markdown",
   "metadata": {},
   "source": [
    "The decision tree classifier for our classification problem with the features of height, weight, and shoe size can be visualized as follows:\n",
    "\n",
    "                          [Height > 170cm]\n",
    "                               /         \\\n",
    "                              /           \\\n",
    "                     [Weight > 65kg]  [Weight <= 65kg]\n",
    "                           /    \\            /     \\\n",
    "                          /      \\          /       \\\n",
    "             [Shoe Size > 8]  [Shoe Size <= 8]    [Shoe Size <= 8]\n",
    "                /   |    \\            /   |   \\            /     \\\n",
    "               /    |     \\          /    |    \\          /       \\\n",
    "             [M]    [F]   [F]      [F]   [M]     [M]     [F]       [M]\n",
    " "
   ]
  },
  {
   "attachments": {},
   "cell_type": "markdown",
   "metadata": {},
   "source": [
    "The decision tree classifier has four levels. At the first level, the height is used as a splitting criterion. If the height is greater than 170cm, the tree goes to the left, which means that the weight is used as a splitting criterion. If the weight is greater than 65kg, the tree goes further left, which means that the shoe size is used as a splitting criterion. If the shoe size is greater than 8, the prediction is male (M), otherwise, it's female (F). If the weight is less than or equal to 65kg, the tree goes further right, which means that the shoe size is used as a splitting criterion. If the shoe size is less than or equal to 8, the prediction is female (F), otherwise, it's male (M). If the height is less than or equal to 170cm, the prediction is female (F)."
   ]
  },
  {
   "cell_type": "code",
   "execution_count": 39,
   "metadata": {},
   "outputs": [],
   "source": [
    "# Importing `tree` module from `SkLearn`\n",
    "from sklearn import tree\n",
    "\n",
    "# Creating a ref to classification model using `SkLearn.tree`\n",
    "tree_classifier = tree.DecisionTreeClassifier()\n",
    "\n",
    "# Fitting the training data into classification model\n",
    "tree_classifier.fit(x_train, y_train);"
   ]
  },
  {
   "cell_type": "code",
   "execution_count": 40,
   "metadata": {},
   "outputs": [
    {
     "name": "stdout",
     "output_type": "stream",
     "text": [
      "Predicted values are -> ['female' 'male' 'female' 'female' 'female' 'female' 'female' 'female']\n"
     ]
    }
   ],
   "source": [
    "# Predicting on our test data `x_test`\n",
    "tree_classifier_predictions = tree_classifier.predict(x_test)\n",
    "\n",
    "print(f\"Predicted values are -> {tree_classifier_predictions}\")\n"
   ]
  },
  {
   "attachments": {},
   "cell_type": "markdown",
   "metadata": {},
   "source": [
    "😎 Our Classifier model made it's predictions, so let's visualize our classification tree"
   ]
  },
  {
   "cell_type": "code",
   "execution_count": 41,
   "metadata": {},
   "outputs": [
    {
     "data": {
      "image/png": "[encoded data removed]",
      "text/plain": [
       "<Figure size 432x288 with 1 Axes>"
      ]
     },
     "metadata": {
      "needs_background": "light"
     },
     "output_type": "display_data"
    }
   ],
   "source": [
    "tree_classifier_visualization = tree.plot_tree(tree_classifier,\n",
    "                                               feature_names=[\n",
    "                                                   'height', 'weight', 'shoe size'],\n",
    "                                               class_names=[\n",
    "                                                   'height', 'weight', 'shoe size'],\n",
    "                                               filled=True)\n"
   ]
  },
  {
   "attachments": {},
   "cell_type": "markdown",
   "metadata": {},
   "source": [
    "Lets also check the accuracy of our modal against our test labels `y_test`"
   ]
  },
  {
   "cell_type": "code",
   "execution_count": 42,
   "metadata": {},
   "outputs": [
    {
     "name": "stdout",
     "output_type": "stream",
     "text": [
      "Accuracy of our TreeClassifierModal is 87.5%\n"
     ]
    }
   ],
   "source": [
    "from sklearn.metrics import accuracy_score\n",
    "\n",
    "tree_classifier_accuracy = accuracy_score(y_test, tree_classifier_predictions)\n",
    "\n",
    "print(f\"Accuracy of our TreeClassifierModal is {tree_classifier_accuracy * 100}%\")\n"
   ]
  },
  {
   "attachments": {},
   "cell_type": "markdown",
   "metadata": {},
   "source": [
    "#### 2. Logistic Regression\n",
    "\n",
    "A linear model that uses the logistic function to model the probability of a binary outcome.\n"
   ]
  },
  {
   "cell_type": "code",
   "execution_count": 51,
   "metadata": {},
   "outputs": [
    {
     "data": {
      "text/plain": [
       "LogisticRegression()"
      ]
     },
     "execution_count": 51,
     "metadata": {},
     "output_type": "execute_result"
    }
   ],
   "source": [
    "# Importing `LogisticRegression` module from `SkLearn`\n",
    "from sklearn.linear_model import LogisticRegression\n",
    "\n",
    "# Creating ref of `LogisticRegression`\n",
    "logistic_regression = LogisticRegression()\n",
    "\n",
    "# Fitting the training data into our `LogisticRegression` modal\n",
    "logistic_regression.fit(x_train, y_train)\n"
   ]
  },
  {
   "cell_type": "code",
   "execution_count": 55,
   "metadata": {},
   "outputs": [
    {
     "name": "stdout",
     "output_type": "stream",
     "text": [
      "Predicted values are -> ['female' 'male' 'male' 'female' 'female' 'female' 'female' 'female']\n"
     ]
    }
   ],
   "source": [
    "logistic_regression_predictions = logistic_regression.predict(x_test)\n",
    "\n",
    "print(f\"Predicted values are -> {logistic_regression_predictions}\")\n"
   ]
  },
  {
   "cell_type": "code",
   "execution_count": null,
   "metadata": {},
   "outputs": [],
   "source": []
  },
  {
   "cell_type": "code",
   "execution_count": 57,
   "metadata": {},
   "outputs": [
    {
     "name": "stdout",
     "output_type": "stream",
     "text": [
      "Accuracy of our LogisticRegressionModal is 75.0%\n"
     ]
    }
   ],
   "source": [
    "from sklearn.metrics import accuracy_score\n",
    "\n",
    "logistic_regression_accuracy = accuracy_score(\n",
    "    y_test, logistic_regression_predictions)\n",
    "\n",
    "print(\n",
    "    f\"Accuracy of our LogisticRegressionModal is {logistic_regression_accuracy * 100}%\")\n"
   ]
  }
 ],
 "metadata": {
  "kernelspec": {
   "display_name": "Python 3",
   "language": "python",
   "name": "python3"
  },
  "language_info": {
   "codemirror_mode": {
    "name": "ipython",
    "version": 3
   },
   "file_extension": ".py",
   "mimetype": "text/x-python",
   "name": "python",
   "nbconvert_exporter": "python",
   "pygments_lexer": "ipython3",
   "version": "3.8.10"
  },
  "orig_nbformat": 4
 },
 "nbformat": 4,
 "nbformat_minor": 2
}
