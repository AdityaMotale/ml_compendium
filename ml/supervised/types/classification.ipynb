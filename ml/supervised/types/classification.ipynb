{
 "cells": [
  {
   "attachments": {},
   "cell_type": "markdown",
   "metadata": {},
   "source": [
    "## Classification"
   ]
  },
  {
   "attachments": {},
   "cell_type": "markdown",
   "metadata": {},
   "source": [
    "Classification is a type of supervised learning in machine learning, where the goal is to predict the class or category of a given data point based on its features. In other words, classification is the process of assigning a label or category to a new observation based on a set of predefined categories."
   ]
  },
  {
   "attachments": {},
   "cell_type": "markdown",
   "metadata": {},
   "source": [
    "There are various algorithms used for classification, including decision trees, logistic regression, naive Bayes, support vector machines (SVM), and artificial neural networks (ANN). The choice of algorithm depends on the nature of the data and the problem at hand."
   ]
  },
  {
   "attachments": {},
   "cell_type": "markdown",
   "metadata": {},
   "source": [
    "#### Gender Classification Problem / Example"
   ]
  },
  {
   "attachments": {},
   "cell_type": "markdown",
   "metadata": {},
   "source": [
    "Here in the fallowing dataset we have info about random peoples, their height, weight and shoe size. Every person has a label of their gender as `male` or `female`. \n",
    "\n",
    "| Height (cm) | Weight (kg) | Shoe Size | Gender |\n",
    "| ----------- | ----------- | -------------- | ------ |\n",
    "| 178         | 75          | 9.5            | Male   |\n",
    "| 165         | 60          | 8              | Female |\n",
    "| 185         | 80          | 10             | Male   |\n",
    "| 155         | 50          | 7              | Female |\n",
    "| 172         | 72          | 9              | Male   |\n",
    "| 160         | 55          | 7.5            | Female |\n",
    "\n",
    "This is a `classification` problem because we are predicting the gender of a person depending upon their height, weight and shoe size"
   ]
  },
  {
   "attachments": {},
   "cell_type": "markdown",
   "metadata": {},
   "source": [
    "Now our task is to create a Supervised ML Modal which will take person's height, weight and shoe size as input and will predict their gender, hence a label, either _male_ or _female_"
   ]
  },
  {
   "attachments": {},
   "cell_type": "markdown",
   "metadata": {},
   "source": [
    "#### Libraries We're Using\n",
    "\n",
    "Here we are importing `numpy` for generating random data, `sklearn.metrics` for evaluating our modal's prediction accuracy and `matplotlib.pyplot` for graphically visualising our modal's predictions"
   ]
  },
  {
   "cell_type": "code",
   "execution_count": 33,
   "metadata": {},
   "outputs": [
    {
     "data": {
      "text/plain": [
       "'1.21.5'"
      ]
     },
     "execution_count": 33,
     "metadata": {},
     "output_type": "execute_result"
    }
   ],
   "source": [
    "import numpy as np # For numerical computing\n",
    "from sklearn.metrics import accuracy_score # For evaluating accuracy of our modals\n",
    "import matplotlib.pyplot as plt # For graphical visualization\n",
    "import pandas as pd # Working with our data\n",
    "\n",
    "np.__version__"
   ]
  },
  {
   "attachments": {},
   "cell_type": "markdown",
   "metadata": {},
   "source": [
    "#### Data Preprocessing"
   ]
  },
  {
   "cell_type": "code",
   "execution_count": 34,
   "metadata": {},
   "outputs": [
    {
     "data": {
      "text/plain": [
       "(array([[185.,  85.,  12.]]), [0])"
      ]
     },
     "execution_count": 34,
     "metadata": {},
     "output_type": "execute_result"
    }
   ],
   "source": [
    "df = pd.read_csv('../../../ds/gender_classification.csv')\n",
    "\n",
    "\n",
    "gender_dataset_labels = df['gender'].tolist()\n",
    "\n",
    "gender_dataset = df.drop(['gender', 'Unnamed: 0'], axis=1).values\n",
    "\n",
    "gender_dataset[-1:], gender_dataset_labels[-1:]\n"
   ]
  },
  {
   "attachments": {},
   "cell_type": "markdown",
   "metadata": {},
   "source": [
    "#### Data Partitioning"
   ]
  },
  {
   "cell_type": "code",
   "execution_count": 35,
   "metadata": {},
   "outputs": [
    {
     "name": "stdout",
     "output_type": "stream",
     "text": [
      "Training Data Sample\n",
      "Data [175.  70.   9.]\n",
      "Label [1] \n",
      "\n",
      "Test Data Sample\n",
      "Data [185.  85.  12.]\n",
      "Label [0]\n"
     ]
    }
   ],
   "source": [
    "''' \n",
    "let's say len of `gender_dataset` is 10, \n",
    "so to take 80% of the values we multiply 10 by 0.8 and we get 8\n",
    "with the help of array slicing we can get elements in the array till the 8th index, hence the 80% of the data\n",
    "similarly we can get all the elements in the array after the 8th index hence last 20% of the data\n",
    "'''\n",
    "\n",
    "# First 80% of the entries in the array\n",
    "x_train = gender_dataset[:int(len(gender_dataset) * 0.8)]\n",
    "\n",
    "# Entries after first 80% of entries in the array\n",
    "x_test = gender_dataset[int(len(gender_dataset) * 0.8):]\n",
    "\n",
    "# First 80% of the entries in the array\n",
    "y_train = gender_dataset_labels[:int(len(gender_dataset_labels) * 0.8)]\n",
    "\n",
    "# Entries after first 80% of entries in the array\n",
    "y_test = gender_dataset_labels[int(len(gender_dataset_labels) * 0.8):]\n",
    "\n",
    "# looking at data sample\n",
    "print('Training Data Sample')\n",
    "print(f\"Data {x_train[-1:][0]}\")\n",
    "print(f\"Label {y_train[-1:]} \\n\")\n",
    "\n",
    "# looking at data sample\n",
    "print('Test Data Sample')\n",
    "print(f\"Data {x_test[-1:][0]}\")\n",
    "print(f\"Label {y_test[-1:]}\")"
   ]
  },
  {
   "attachments": {},
   "cell_type": "markdown",
   "metadata": {},
   "source": [
    "So our data is now ready😁! Now let's build our modal to make predictions 👨‍🔬"
   ]
  },
  {
   "attachments": {},
   "cell_type": "markdown",
   "metadata": {},
   "source": [
    "Now to solve our classification problem we need to build our model with a classification algorithm"
   ]
  },
  {
   "attachments": {},
   "cell_type": "markdown",
   "metadata": {},
   "source": [
    "#### Various Classification Algorithms\n",
    "\n",
    "1. DecisionTreeClassifier\n",
    "2. LogisticRegression \n",
    "3. RandomForestClassifier\n",
    "4. K-Nearest Neighbors (KNN)\n",
    "5. Support Vector Machines (SVM)\n",
    "6. Naive Bayes"
   ]
  },
  {
   "attachments": {},
   "cell_type": "markdown",
   "metadata": {},
   "source": [
    "👉 NOTE: Remember we're just firing gunshots in the air here, because our data is generated randomly and it's not validated against any real life circumstances."
   ]
  },
  {
   "attachments": {},
   "cell_type": "markdown",
   "metadata": {},
   "source": [
    "#### 1. Decision Tree Classifier\n",
    "\n",
    "A non-parametric model that uses a tree-like structure to partition the feature space into disjoint regions, and assigns a class label to each region."
   ]
  },
  {
   "attachments": {},
   "cell_type": "markdown",
   "metadata": {},
   "source": [
    "The decision tree classifier for our classification problem with the features of height, weight, and shoe size can be visualized as follows:\n",
    "\n",
    "                          [Height > 170cm]\n",
    "                               /         \\\n",
    "                              /           \\\n",
    "                     [Weight > 65kg]  [Weight <= 65kg]\n",
    "                           /    \\            /     \\\n",
    "                          /      \\          /       \\\n",
    "             [Shoe Size > 8]  [Shoe Size <= 8]    [Shoe Size <= 8]\n",
    "                /   |    \\            /   |   \\            /     \\\n",
    "               /    |     \\          /    |    \\          /       \\\n",
    "             [M]    [F]   [F]      [F]   [M]     [M]     [F]       [M]\n",
    " "
   ]
  },
  {
   "attachments": {},
   "cell_type": "markdown",
   "metadata": {},
   "source": [
    "The decision tree classifier has four levels. At the first level, the height is used as a splitting criterion. If the height is greater than 170cm, the tree goes to the left, which means that the weight is used as a splitting criterion. If the weight is greater than 65kg, the tree goes further left, which means that the shoe size is used as a splitting criterion. If the shoe size is greater than 8, the prediction is male (M), otherwise, it's female (F). If the weight is less than or equal to 65kg, the tree goes further right, which means that the shoe size is used as a splitting criterion. If the shoe size is less than or equal to 8, the prediction is female (F), otherwise, it's male (M). If the height is less than or equal to 170cm, the prediction is female (F)."
   ]
  },
  {
   "cell_type": "code",
   "execution_count": 36,
   "metadata": {},
   "outputs": [],
   "source": [
    "# Importing `tree` module from `SkLearn`\n",
    "from sklearn import tree\n",
    "\n",
    "# Creating a ref to classification model using `SkLearn.tree`\n",
    "tree_classifier = tree.DecisionTreeClassifier()\n",
    "\n",
    "# Fitting the training data into classification model\n",
    "tree_classifier.fit(x_train, y_train);"
   ]
  },
  {
   "cell_type": "code",
   "execution_count": 37,
   "metadata": {},
   "outputs": [
    {
     "name": "stdout",
     "output_type": "stream",
     "text": [
      "Predicted values are -> [1 1 0 0]\n"
     ]
    }
   ],
   "source": [
    "# Predicting on our test data `x_test`\n",
    "tree_classifier_predictions = tree_classifier.predict(x_test)\n",
    "\n",
    "print(f\"Predicted values are -> {tree_classifier_predictions}\")\n"
   ]
  },
  {
   "attachments": {},
   "cell_type": "markdown",
   "metadata": {},
   "source": [
    "😎 Our Classifier model made it's predictions, so let's visualize our classification tree"
   ]
  },
  {
   "cell_type": "code",
   "execution_count": 38,
   "metadata": {},
   "outputs": [
    {
     "data": {
      "image/png": "[encoded data removed]",
      "text/plain": [
       "<Figure size 432x288 with 1 Axes>"
      ]
     },
     "metadata": {
      "needs_background": "light"
     },
     "output_type": "display_data"
    }
   ],
   "source": [
    "tree_classifier_visualization = tree.plot_tree(tree_classifier,\n",
    "                                               feature_names=[\n",
    "                                                   'height', 'weight', 'shoe size'],\n",
    "                                               class_names=[\n",
    "                                                   'height', 'weight', 'shoe size'],\n",
    "                                               filled=True)\n"
   ]
  },
  {
   "attachments": {},
   "cell_type": "markdown",
   "metadata": {},
   "source": [
    "Lets also check the accuracy of our modal against our test labels `y_test`"
   ]
  },
  {
   "cell_type": "code",
   "execution_count": 39,
   "metadata": {},
   "outputs": [
    {
     "name": "stdout",
     "output_type": "stream",
     "text": [
      "Accuracy of our TreeClassifierModal is 75.0%\n"
     ]
    }
   ],
   "source": [
    "tree_classifier_accuracy = accuracy_score(y_test, tree_classifier_predictions)\n",
    "\n",
    "print(f\"Accuracy of our TreeClassifierModal is {tree_classifier_accuracy * 100}%\")\n"
   ]
  },
  {
   "attachments": {},
   "cell_type": "markdown",
   "metadata": {},
   "source": [
    "#### 2. Logistic Regression \n",
    "\n",
    "> Not explained well\n",
    "\n",
    "Logistic regression is a method used to analyze data where there are only two possible outcomes. For example, for our problem we are providing a person's height, weight and shoe size and predicting if the person is a man or a women.\n",
    "\n",
    "It works by estimating the probability of an event occurring, such as a student passing the exam. The estimation is done using a special function called a logistic function, which transforms the output of a linear regression model into a probability value between 0 and 1."
   ]
  },
  {
   "cell_type": "code",
   "execution_count": 40,
   "metadata": {},
   "outputs": [
    {
     "data": {
      "text/plain": [
       "LogisticRegression()"
      ]
     },
     "execution_count": 40,
     "metadata": {},
     "output_type": "execute_result"
    }
   ],
   "source": [
    "# Importing `LogisticRegression` module from `SkLearn`\n",
    "from sklearn.linear_model import LogisticRegression\n",
    "\n",
    "# Creating ref of `LogisticRegression`\n",
    "logistic_regression = LogisticRegression()\n",
    "\n",
    "# Fitting the training data into our `LogisticRegression` modal\n",
    "logistic_regression.fit(x_train, y_train)\n"
   ]
  },
  {
   "cell_type": "code",
   "execution_count": 41,
   "metadata": {},
   "outputs": [
    {
     "name": "stdout",
     "output_type": "stream",
     "text": [
      "Predicted values are -> [0 1 0 0]\n"
     ]
    }
   ],
   "source": [
    "# Predicting with Logistic Regression with our Test Data\n",
    "logistic_regression_predictions = logistic_regression.predict(x_test)\n",
    "\n",
    "print(f\"Predicted values are -> {logistic_regression_predictions}\")\n"
   ]
  },
  {
   "cell_type": "code",
   "execution_count": 42,
   "metadata": {},
   "outputs": [
    {
     "name": "stdout",
     "output_type": "stream",
     "text": [
      "Accuracy of our LogisticRegressionModal is 100.0%\n"
     ]
    }
   ],
   "source": [
    "logistic_regression_accuracy = accuracy_score(\n",
    "    y_test, logistic_regression_predictions)\n",
    "\n",
    "print(\n",
    "    f\"Accuracy of our LogisticRegressionModal is {logistic_regression_accuracy * 100}%\")\n"
   ]
  },
  {
   "attachments": {},
   "cell_type": "markdown",
   "metadata": {},
   "source": [
    "#### 3. RandomForestClassifier"
   ]
  },
  {
   "attachments": {},
   "cell_type": "markdown",
   "metadata": {},
   "source": [
    "Random Forest Classifier is a popular algorithm that constructs multiple decision trees at training time and outputs the class that is the mode of the classes (classification) or mean prediction (regression) of the individual trees."
   ]
  },
  {
   "attachments": {},
   "cell_type": "markdown",
   "metadata": {},
   "source": [
    "The decision trees in a Random Forest Classifier are constructed based on a random subset of the training data and a random subset of the input features. This randomness helps to reduce over-fitting and improves the accuracy of the model. The algorithm also uses a technique called bagging (bootstrap aggregating) to combine the predictions of the individual trees."
   ]
  },
  {
   "attachments": {},
   "cell_type": "markdown",
   "metadata": {},
   "source": [
    "> TL;DR\n",
    "\n",
    "The basic idea of the Random Forest Classifier is to combine the results of multiple decision trees to improve the accuracy of the predictions. Each decision tree is trained on a random subset of the data and a random subset of the input features.\n"
   ]
  },
  {
   "cell_type": "code",
   "execution_count": 43,
   "metadata": {},
   "outputs": [
    {
     "data": {
      "text/plain": [
       "RandomForestClassifier()"
      ]
     },
     "execution_count": 43,
     "metadata": {},
     "output_type": "execute_result"
    }
   ],
   "source": [
    "from sklearn.ensemble import RandomForestClassifier\n",
    "\n",
    "random_forest_classifier = RandomForestClassifier()\n",
    "\n",
    "random_forest_classifier.fit(x_train, y_train)"
   ]
  },
  {
   "cell_type": "code",
   "execution_count": 44,
   "metadata": {},
   "outputs": [
    {
     "name": "stdout",
     "output_type": "stream",
     "text": [
      "Predicted values are -> [1 1 1 0]\n"
     ]
    }
   ],
   "source": [
    "random_forest_predictions = random_forest_classifier.predict(x_test)\n",
    "\n",
    "print(f\"Predicted values are -> {random_forest_predictions}\")"
   ]
  },
  {
   "cell_type": "code",
   "execution_count": 45,
   "metadata": {},
   "outputs": [
    {
     "name": "stdout",
     "output_type": "stream",
     "text": [
      "Accuracy of our RandomForestClassifierModal is 50.0%\n"
     ]
    }
   ],
   "source": [
    "random_forest_accuracy = accuracy_score(\n",
    "    y_test, random_forest_predictions)\n",
    "\n",
    "print(\n",
    "    f\"Accuracy of our RandomForestClassifierModal is {random_forest_accuracy * 100}%\")\n"
   ]
  },
  {
   "attachments": {},
   "cell_type": "markdown",
   "metadata": {},
   "source": [
    "#### 4. K-Nearest Neighbors (KNN)\n",
    "\n",
    "K-Nearest Neighbors (KNN) is a non-parametric machine learning algorithm used for both classification and regression tasks. It is a simple and powerful algorithm that is based on the idea of similarity between data points."
   ]
  },
  {
   "attachments": {},
   "cell_type": "markdown",
   "metadata": {},
   "source": [
    "K-Nearest Neighbors (KNN) is a lazy learning algorithm, which means that it does not actually build a model during the training phase. Instead, it stores the entire training dataset in memory and performs the classification or regression task at the time of prediction.\n",
    "\n",
    "During the training phase, the KNN algorithm simply stores the feature vectors and their corresponding class labels for all the training data points.\n",
    "\n",
    "Let's consider a simple example to illustrate how K-Nearest Neighbors (KNN) algorithm works:"
   ]
  },
  {
   "attachments": {},
   "cell_type": "markdown",
   "metadata": {},
   "source": [
    "Suppose we have a dataset of 10 observations with two features - height and weight, and each observation is labeled as either \"male\" or \"female\" based on their gender. We want to predict the gender of a new observation based on their height and weight.\n",
    "\n",
    "Here is our data,\n",
    "\n",
    "| Height (inches) | Weight (kg's) | Gender |\n",
    "| --------------- | ------------- | ------ |\n",
    "| 63              | 119           | Male   |\n",
    "| 64              | 121           | Female |\n",
    "| 66              | 132           | Male   |\n",
    "| 68              | 145           | Female |\n",
    "| 70              | 162           | Male   |\n",
    "| 71              | 172           | Male   |\n",
    "| 73              | 196           | Female |\n",
    "| 75              | 219           | Male   |\n",
    "| 76              | 230           | Female |\n",
    "| 78              | 250           | Male   |\n",
    "\n",
    "Suppose we want to predict the gender of a new person with height 72 inches and weight 180 pounds using KNN with k=3.\n",
    "\n",
    "Now to calculate the distance between our input value and dataset value, we can use _Euclidean distance_ formula\n",
    "\n",
    "`d(x, y) = sqrt(sum((x_i - y_i)^2))`\n",
    "\n",
    "or\n",
    "\n",
    "`d = √(x_1 - x_2)^2 + (y_1 - y_2)^2`\n",
    "\n",
    "however we can also use _Manhattan distance_.\n",
    "\n",
    "Let's calculate the distance between our input and first entry in data point\n",
    "\n",
    "```plaintext\n",
    "d = sqrt((72-63)^2 + (180-119)^2)\n",
    "  = sqrt(9^2 + 61^2)\n",
    "  = sqrt(81 + 3721)\n",
    "  = sqrt(3802)\n",
    " ~= 61.67\n",
    "```\n",
    "\n",
    "Just like this we'll calculate the distance between our input and for all the data points\n",
    "\n",
    "| Height (inches) | Weight (pounds) | Distance |\n",
    "| --------------- | --------------- | -------- |\n",
    "| 66              | 132             | 40       |\n",
    "| 68              | 145             | 31       |\n",
    "| 71              | 172             | 8        |\n",
    "| 70              | 162             | 18       |\n",
    "| 73              | 196             | 16       |\n",
    "| 75              | 219             | 39       |\n",
    "| 76              | 230             | 50       |\n",
    "| 78              | 250             | 70       |\n",
    "| 63              | 119             | 61       |\n",
    "| 64              | 121             | 59       |\n",
    "\n",
    "The algorithm would then select the 3 nearest neighbors based on the distance measure. In this case, the three nearest neighbors would be the observations with indices 4, 5, and 6 which are 68, 71 and 70 which all corresponds to males. Hence our output label is `male`\n"
   ]
  },
  {
   "cell_type": "code",
   "execution_count": 46,
   "metadata": {},
   "outputs": [
    {
     "data": {
      "text/plain": [
       "KNeighborsClassifier(metric='euclidean', n_neighbors=3)"
      ]
     },
     "execution_count": 46,
     "metadata": {},
     "output_type": "execute_result"
    }
   ],
   "source": [
    "from sklearn.neighbors import KNeighborsClassifier\n",
    "\n",
    "k_neighbors_classifier = KNeighborsClassifier(n_neighbors=3, metric='euclidean')\n",
    "\n",
    "k_neighbors_classifier.fit(x_train, y_train)\n"
   ]
  },
  {
   "cell_type": "code",
   "execution_count": 47,
   "metadata": {},
   "outputs": [
    {
     "name": "stdout",
     "output_type": "stream",
     "text": [
      "Predicted values are -> [1 1 1 0]\n"
     ]
    }
   ],
   "source": [
    "k_neighbors_predictions = k_neighbors_classifier.predict(x_test)\n",
    "\n",
    "print(f\"Predicted values are -> {k_neighbors_predictions}\")"
   ]
  },
  {
   "cell_type": "code",
   "execution_count": 48,
   "metadata": {},
   "outputs": [
    {
     "name": "stdout",
     "output_type": "stream",
     "text": [
      "Accuracy of our KNeighborsClassifierModal is 50.0%\n"
     ]
    }
   ],
   "source": [
    "k_neighbors_accuracy = accuracy_score(\n",
    "    y_test, k_neighbors_predictions)\n",
    "\n",
    "print(\n",
    "    f\"Accuracy of our KNeighborsClassifierModal is {k_neighbors_accuracy * 100}%\")\n"
   ]
  },
  {
   "attachments": {},
   "cell_type": "markdown",
   "metadata": {},
   "source": [
    "#### 5. Support Vector Machines (SVM)\n",
    "\n",
    "In SVM classification, the algorithm attempts to find the best hyperplane that separates the different classes in the dataset."
   ]
  },
  {
   "attachments": {},
   "cell_type": "markdown",
   "metadata": {},
   "source": [
    "As shown in the below diagram, \n",
    "\n",
    "![svm](https://editor.analyticsvidhya.com/uploads/567891.png)\n",
    "\n",
    "The hyperplane is a decision boundary that maximizes the margin between the different classes. The margin is the distance between the closest data points of the different classes to the hyperplane. SVM tries to find the hyperplane that has the largest margin between the classes.\n",
    "\n",
    "![Margin](https://editor.analyticsvidhya.com/uploads/729834.png)\n",
    "\n",
    "In order to find the optimal hyperplane, SVM searches for the support vectors. Support vectors are the data points that are closest to the decision boundary or hyperplane. These support vectors are used to calculate the margin and find the optimal hyperplane."
   ]
  },
  {
   "cell_type": "code",
   "execution_count": 49,
   "metadata": {},
   "outputs": [
    {
     "data": {
      "text/plain": [
       "SVC(kernel='linear')"
      ]
     },
     "execution_count": 49,
     "metadata": {},
     "output_type": "execute_result"
    }
   ],
   "source": [
    "from sklearn import  svm\n",
    "\n",
    "svm_classifier = svm.SVC(kernel='linear', C=1.0)\n",
    "\n",
    "svm_classifier.fit(x_train, y_train)"
   ]
  },
  {
   "cell_type": "code",
   "execution_count": 50,
   "metadata": {},
   "outputs": [
    {
     "name": "stdout",
     "output_type": "stream",
     "text": [
      "Predicted values are -> [0 1 0 0]\n"
     ]
    }
   ],
   "source": [
    "svm_classifier_predictions = svm_classifier.predict(x_test)\n",
    "\n",
    "print(f\"Predicted values are -> {svm_classifier_predictions}\")"
   ]
  },
  {
   "cell_type": "code",
   "execution_count": 51,
   "metadata": {},
   "outputs": [
    {
     "name": "stdout",
     "output_type": "stream",
     "text": [
      "Accuracy of our SVMClassificationModal is 100.0%\n"
     ]
    }
   ],
   "source": [
    "svm_classifier_accuracy = accuracy_score(y_test, svm_classifier_predictions)\n",
    "\n",
    "print(\n",
    "    f\"Accuracy of our SVMClassificationModal is {svm_classifier_accuracy * 100}%\")"
   ]
  },
  {
   "attachments": {},
   "cell_type": "markdown",
   "metadata": {},
   "source": [
    "#### 6. Naive Bayes\n",
    "\n",
    "Naive Bayes is a probabilistic classification algorithm based on Bayes' theorem. It is called \"naive\" because it makes a strong assumption that the features are conditionally independent given the class variable, which is often not true in real-world data. However, despite its simplicity and the unrealistic assumption, it has been shown to perform well in practice and is widely used in text classification, spam filtering, and recommendation systems."
   ]
  },
  {
   "attachments": {},
   "cell_type": "markdown",
   "metadata": {},
   "source": [
    "The algorithm works by first estimating the prior probabilities of each class based on the frequency of occurrence of each class in the training data. Then, it estimates the conditional probability of each feature given each class based on the frequency of occurrence of the feature in the training data for each class. Finally, it applies Bayes' theorem to compute the posterior probability of each class given the observed feature values for a new sample, and assigns the new sample to the class with the highest posterior probability.\n",
    "\n",
    "Here's the mathematical formula for the Naive Bayes algorithm:\n",
    "\n",
    "```P(y|x) = P(x|y) * P(y) / P(x)```\n",
    "\n",
    "where P(y|x) is the posterior probability of class y given the feature vector x, P(x|y) is the conditional probability of the feature vector x given class y (which is estimated by counting the frequency of each feature in the training data for each class), P(y) is the prior probability of class y (which is estimated by counting the frequency of each class in the training data), and P(x) is the marginal probability of the feature vector x (which is a normalization constant)."
   ]
  },
  {
   "attachments": {},
   "cell_type": "markdown",
   "metadata": {},
   "source": [
    "We're using _Gaussian Naive Bayes_. It assumes that the features follow a Gaussian distribution and estimates the mean and variance of each feature for each class."
   ]
  },
  {
   "cell_type": "code",
   "execution_count": 52,
   "metadata": {},
   "outputs": [
    {
     "data": {
      "text/plain": [
       "GaussianNB()"
      ]
     },
     "execution_count": 52,
     "metadata": {},
     "output_type": "execute_result"
    }
   ],
   "source": [
    "from sklearn.naive_bayes import GaussianNB\n",
    "\n",
    "gaussian_naive_bayes_classification = GaussianNB()\n",
    "\n",
    "gaussian_naive_bayes_classification.fit(x_train, y_train)"
   ]
  },
  {
   "cell_type": "code",
   "execution_count": 53,
   "metadata": {},
   "outputs": [
    {
     "name": "stdout",
     "output_type": "stream",
     "text": [
      "Predicted values are -> [1 1 0 0]\n"
     ]
    }
   ],
   "source": [
    "gaussian_naive_bayes_classification_prediction = gaussian_naive_bayes_classification.predict(x_test)\n",
    "\n",
    "print(\n",
    "    f\"Predicted values are -> {gaussian_naive_bayes_classification_prediction}\")"
   ]
  },
  {
   "cell_type": "code",
   "execution_count": 54,
   "metadata": {},
   "outputs": [
    {
     "name": "stdout",
     "output_type": "stream",
     "text": [
      "Accuracy of our GaussianNBClassificationModal is 100.0%\n"
     ]
    }
   ],
   "source": [
    "gaussian_naive_bayes_classification_accuracy = accuracy_score(\n",
    "    y_test, gaussian_naive_bayes_classification_prediction)\n",
    "\n",
    "print(\n",
    "    f\"Accuracy of our GaussianNBClassificationModal is {svm_classifier_accuracy * 100}%\")"
   ]
  }
 ],
 "metadata": {
  "kernelspec": {
   "display_name": "Python 3",
   "language": "python",
   "name": "python3"
  },
  "language_info": {
   "codemirror_mode": {
    "name": "ipython",
    "version": 3
   },
   "file_extension": ".py",
   "mimetype": "text/x-python",
   "name": "python",
   "nbconvert_exporter": "python",
   "pygments_lexer": "ipython3",
   "version": "3.8.10"
  },
  "orig_nbformat": 4
 },
 "nbformat": 4,
 "nbformat_minor": 2
}
