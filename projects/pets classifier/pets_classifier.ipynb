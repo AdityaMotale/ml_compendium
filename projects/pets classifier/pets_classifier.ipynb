{
 "cells": [
  {
   "attachments": {},
   "cell_type": "markdown",
   "metadata": {},
   "source": [
    "# Pets (Dog and Cat) Classifier"
   ]
  },
  {
   "attachments": {},
   "cell_type": "markdown",
   "metadata": {},
   "source": [
    "### Scraping Data/Images"
   ]
  },
  {
   "cell_type": "code",
   "execution_count": 103,
   "metadata": {},
   "outputs": [],
   "source": [
    "import os\n",
    "import requests\n",
    "\n",
    "from bs4 import BeautifulSoup\n",
    "from IPython.display import Image"
   ]
  },
  {
   "attachments": {},
   "cell_type": "markdown",
   "metadata": {},
   "source": [
    "Function to fetch list of image urls for the given query, scraped from google images using `bs4` and `requests`"
   ]
  },
  {
   "cell_type": "code",
   "execution_count": 106,
   "metadata": {},
   "outputs": [],
   "source": [
    "def get_list_of_img_urls(query):\n",
    "    url = f\"https://www.google.com/search?q={query}+png&tbm=isch\"\n",
    "\n",
    "    headers = {\n",
    "        \"User-Agent\": \"Mozilla/5.0 (Windows NT 10.0; Win64; x64) AppleWebKit/537.36 (KHTML, like Gecko) Chrome/58.0.3029.110 Safari/537.3\"\n",
    "    }\n",
    "\n",
    "    res = requests.get(url, headers=headers)\n",
    "\n",
    "    soup = BeautifulSoup(res.content, \"html.parser\")\n",
    "\n",
    "    imgs = soup.findAll('img', class_='rg_i')\n",
    "\n",
    "    imgs_src = []\n",
    "\n",
    "    for tag in imgs:\n",
    "        src = tag.get('src') if tag.get(\n",
    "            'src') is not None else tag.get('data-src')\n",
    "\n",
    "        if (src is None):\n",
    "            continue  # Breaking this iteration\n",
    "\n",
    "        if src.startswith('data:image/'):\n",
    "            continue  # Breaking this iteration\n",
    "\n",
    "        imgs_src.append(src)\n",
    "\n",
    "    return imgs_src\n"
   ]
  },
  {
   "attachments": {},
   "cell_type": "markdown",
   "metadata": {},
   "source": [
    "Function to download images from the list of urls using `requests`"
   ]
  },
  {
   "cell_type": "code",
   "execution_count": 107,
   "metadata": {},
   "outputs": [],
   "source": [
    "def download_imgs(url_list, dir_name):\n",
    "    for i, url in enumerate(url_list):\n",
    "        res = requests.get(url)\n",
    "        file_path = os.path.join(f\"data/{dir_name}/\" + f\"{dir_name}_{i}.png\")\n",
    "        with open(file_path, \"wb\") as f:\n",
    "            f.write(res.content)"
   ]
  },
  {
   "attachments": {},
   "cell_type": "markdown",
   "metadata": {},
   "source": [
    "#### Fetching and downloading _Dog_ images and saving them in `./data/dog/*`"
   ]
  },
  {
   "cell_type": "code",
   "execution_count": 8,
   "metadata": {},
   "outputs": [],
   "source": [
    "dog_img_urls = get_list_of_img_urls('dog')\n",
    "\n",
    "download_imgs(dog_img_urls, dir_name='dog')"
   ]
  },
  {
   "cell_type": "code",
   "execution_count": 17,
   "metadata": {},
   "outputs": [
    {
     "data": {
      "image/png": "[encoded data removed]",
      "text/plain": [
       "<IPython.core.display.Image object>"
      ]
     },
     "execution_count": 17,
     "metadata": {},
     "output_type": "execute_result"
    }
   ],
   "source": [
    "Image('./data/dog/dog_0.png')"
   ]
  },
  {
   "attachments": {},
   "cell_type": "markdown",
   "metadata": {},
   "source": [
    "#### Fetching and downloading _Cat_ images and saving them in `./data/cat/*`"
   ]
  },
  {
   "cell_type": "code",
   "execution_count": 9,
   "metadata": {},
   "outputs": [],
   "source": [
    "cat_img_urls = get_list_of_img_urls('cat')\n",
    "\n",
    "download_imgs(cat_img_urls, dir_name='cat')"
   ]
  },
  {
   "cell_type": "code",
   "execution_count": 16,
   "metadata": {},
   "outputs": [
    {
     "data": {
      "image/png": "[encoded data removed]",
      "text/plain": [
       "<IPython.core.display.Image object>"
      ]
     },
     "execution_count": 16,
     "metadata": {},
     "output_type": "execute_result"
    }
   ],
   "source": [
    "Image('./data/cat/cat_0.png')"
   ]
  },
  {
   "attachments": {},
   "cell_type": "markdown",
   "metadata": {},
   "source": [
    "### Data Cleaning"
   ]
  },
  {
   "attachments": {},
   "cell_type": "markdown",
   "metadata": {},
   "source": [
    "After, 30 min of manually cleaning the data 😰 \n",
    "Removed all grouped images containing more then one pet, removed svg, cartoon images. I don't how to automate this, so this has to be done manually!"
   ]
  },
  {
   "attachments": {},
   "cell_type": "markdown",
   "metadata": {},
   "source": [
    "### \n",
    "> 💀 NOTE: Do not re-run above cells, otherwise data need to be manually cleaned again! So only run it once"
   ]
  },
  {
   "attachments": {},
   "cell_type": "markdown",
   "metadata": {},
   "source": [
    "### Data Partitioning "
   ]
  },
  {
   "attachments": {},
   "cell_type": "markdown",
   "metadata": {},
   "source": [
    "Create list of _1D_ array to represent our images from `dir` of _images_ and combine them in a single list "
   ]
  },
  {
   "cell_type": "code",
   "execution_count": 34,
   "metadata": {},
   "outputs": [],
   "source": [
    "import os\n",
    "import numpy as np\n",
    "\n",
    "from PIL import Image\n",
    "\n",
    "dog_imgs = os.listdir('./data/dog/')\n",
    "cat_imgs = os.listdir('./data/cat/')\n",
    "\n",
    "for i, item in enumerate(dog_imgs):\n",
    "    img = Image.open(f\"./data/dog/{item}\").convert(\"L\").resize((28, 28))\n",
    "    img_pixels = np.asarray(img).flatten()\n",
    "    dog_imgs[i] = img_pixels\n",
    "\n",
    "for i, item in enumerate(cat_imgs):\n",
    "    img = Image.open(f\"./data/cat/{item}\").convert(\"L\").resize((28, 28))\n",
    "    img_pixels = np.asarray(img).flatten()\n",
    "    cat_imgs[i] = img_pixels\n",
    "\n",
    "data_list = dog_imgs + cat_imgs\n"
   ]
  },
  {
   "attachments": {},
   "cell_type": "markdown",
   "metadata": {},
   "source": [
    "Create list of labels for our images, as we are creating a binary classification modal our labels will either be `dog` or a `cat`"
   ]
  },
  {
   "cell_type": "code",
   "execution_count": 35,
   "metadata": {},
   "outputs": [],
   "source": [
    "label_list = [\"dog\"] * len(dog_imgs) + [\"cat\"] * len(cat_imgs)"
   ]
  },
  {
   "attachments": {},
   "cell_type": "markdown",
   "metadata": {},
   "source": [
    "Splitting our dataset into _test_ and _train_ at ratio of about 20%"
   ]
  },
  {
   "cell_type": "code",
   "execution_count": 45,
   "metadata": {},
   "outputs": [],
   "source": [
    "from sklearn.model_selection import train_test_split\n",
    "\n",
    "X_train, X_test, y_train, y_test = train_test_split(\n",
    "    data_list, label_list, test_size=0.1, random_state=42)"
   ]
  },
  {
   "attachments": {},
   "cell_type": "markdown",
   "metadata": {},
   "source": [
    "### Creating our classification Modal"
   ]
  },
  {
   "cell_type": "code",
   "execution_count": 46,
   "metadata": {},
   "outputs": [
    {
     "data": {
      "text/plain": [
       "SVC(kernel='linear')"
      ]
     },
     "execution_count": 46,
     "metadata": {},
     "output_type": "execute_result"
    }
   ],
   "source": [
    "from sklearn import svm\n",
    "\n",
    "svm_classifier_modal = svm.SVC(kernel='linear', C=1.0)\n",
    "\n",
    "svm_classifier_modal.fit(X_train, y_train)"
   ]
  },
  {
   "cell_type": "code",
   "execution_count": 48,
   "metadata": {},
   "outputs": [
    {
     "name": "stdout",
     "output_type": "stream",
     "text": [
      "Accuracy: 0.75\n",
      "Classification report:\n",
      "               precision    recall  f1-score   support\n",
      "\n",
      "         cat       0.71      0.83      0.77         6\n",
      "         dog       0.80      0.67      0.73         6\n",
      "\n",
      "    accuracy                           0.75        12\n",
      "   macro avg       0.76      0.75      0.75        12\n",
      "weighted avg       0.76      0.75      0.75        12\n",
      "\n"
     ]
    }
   ],
   "source": [
    "from sklearn.metrics import accuracy_score, classification_report\n",
    "\n",
    "pred = svm_classifier_modal.predict(X_test)\n",
    "\n",
    "# Evaluate the performance of the classifier\n",
    "accuracy = accuracy_score(y_test, pred)\n",
    "report = classification_report(y_test, pred)\n",
    "print(\"Accuracy:\", accuracy)\n",
    "print(\"Classification report:\\n\", report)"
   ]
  },
  {
   "cell_type": "code",
   "execution_count": 72,
   "metadata": {},
   "outputs": [
    {
     "name": "stdout",
     "output_type": "stream",
     "text": [
      "The image is of dog\n",
      "The image\n"
     ]
    },
    {
     "data": {
      "image/png": "[encoded data removed]",
      "text/plain": [
       "<PIL.Image.Image image mode=L size=56x56 at 0x24704FA1310>"
      ]
     },
     "execution_count": 72,
     "metadata": {},
     "output_type": "execute_result"
    }
   ],
   "source": [
    "img_array = X_test[9].reshape((28,28))\n",
    "\n",
    "img = Image.fromarray(img_array).resize((56,56))\n",
    "\n",
    "\n",
    "print(f\"The image is of {pred[9]}\")\n",
    "\n",
    "print(\"The image\")\n",
    "\n",
    "img"
   ]
  },
  {
   "attachments": {},
   "cell_type": "markdown",
   "metadata": {},
   "source": [
    "Certainly not correct! right? Need to improve our modal"
   ]
  },
  {
   "cell_type": "code",
   "execution_count": 100,
   "metadata": {},
   "outputs": [
    {
     "data": {
      "text/plain": [
       "KNeighborsClassifier(metric='manhattan', n_neighbors=3)"
      ]
     },
     "execution_count": 100,
     "metadata": {},
     "output_type": "execute_result"
    }
   ],
   "source": [
    "from sklearn.neighbors import KNeighborsClassifier\n",
    "from sklearn.metrics import accuracy_score, classification_report\n",
    "\n",
    "\n",
    "k_neighbors_classifier = KNeighborsClassifier(\n",
    "    n_neighbors=3, metric='manhattan')\n",
    "\n",
    "k_neighbors_classifier.fit(X_test, y_test)\n"
   ]
  },
  {
   "cell_type": "code",
   "execution_count": 101,
   "metadata": {},
   "outputs": [
    {
     "name": "stdout",
     "output_type": "stream",
     "text": [
      "Accuracy: 0.6666666666666666\n",
      "Classification report:\n",
      "               precision    recall  f1-score   support\n",
      "\n",
      "         cat       0.60      1.00      0.75         6\n",
      "         dog       1.00      0.33      0.50         6\n",
      "\n",
      "    accuracy                           0.67        12\n",
      "   macro avg       0.80      0.67      0.62        12\n",
      "weighted avg       0.80      0.67      0.62        12\n",
      "\n"
     ]
    }
   ],
   "source": [
    "\n",
    "pred = k_neighbors_classifier.predict(X_test)\n",
    "\n",
    "# Evaluate the performance of the classifier\n",
    "accuracy = accuracy_score(y_test, pred)\n",
    "report = classification_report(y_test, pred)\n",
    "print(\"Accuracy:\", accuracy)\n",
    "print(\"Classification report:\\n\", report)"
   ]
  }
 ],
 "metadata": {
  "kernelspec": {
   "display_name": "Python 3",
   "language": "python",
   "name": "python3"
  },
  "language_info": {
   "codemirror_mode": {
    "name": "ipython",
    "version": 3
   },
   "file_extension": ".py",
   "mimetype": "text/x-python",
   "name": "python",
   "nbconvert_exporter": "python",
   "pygments_lexer": "ipython3",
   "version": "3.8.10"
  },
  "orig_nbformat": 4
 },
 "nbformat": 4,
 "nbformat_minor": 2
}
